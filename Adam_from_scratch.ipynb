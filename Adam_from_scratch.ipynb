{
 "cells": [
  {
   "cell_type": "code",
   "execution_count": 1,
   "metadata": {
    "colab": {},
    "colab_type": "code",
    "id": "livgDl2UpTO9"
   },
   "outputs": [],
   "source": [
    "# importing libraries\n",
    "import numpy as np\n",
    "import matplotlib.pyplot as plt\n",
    "%matplotlib inline"
   ]
  },
  {
   "cell_type": "code",
   "execution_count": 2,
   "metadata": {
    "colab": {
     "base_uri": "https://localhost:8080/",
     "height": 156
    },
    "colab_type": "code",
    "id": "b5DI7_tvpZD1",
    "outputId": "505f9d50-332c-4a80-fae3-3c0ee0d67f9f"
   },
   "outputs": [
    {
     "name": "stdout",
     "output_type": "stream",
     "text": [
      "\n",
      " Input:\n",
      "[[1 1 0]\n",
      " [0 0 1]\n",
      " [1 1 0]\n",
      " [0 1 1]]\n",
      "\n",
      " Shape of Input: (4, 3)\n"
     ]
    }
   ],
   "source": [
    "# creating the input array\n",
    "X=np.array([[1,0,1,0], [1,0,1,1], [0,1,0,1]])\n",
    "\n",
    "# converting the input in matrix form\n",
    "X = X.T\n",
    "print ('\\n Input:')\n",
    "print(X)\n",
    "\n",
    "# shape of input array\n",
    "print('\\n Shape of Input:', X.shape)"
   ]
  },
  {
   "cell_type": "code",
   "execution_count": 3,
   "metadata": {
    "colab": {
     "base_uri": "https://localhost:8080/",
     "height": 104
    },
    "colab_type": "code",
    "id": "YlYVoFXHpaGi",
    "outputId": "7dddec44-5c57-46dc-f98a-b1780c1258ee"
   },
   "outputs": [
    {
     "name": "stdout",
     "output_type": "stream",
     "text": [
      "\n",
      " Actual Output:\n",
      "[[1 1 0]]\n",
      "\n",
      " Shape of Output: (1, 3)\n"
     ]
    }
   ],
   "source": [
    "# creating the output array\n",
    "y=np.array([[1],[1],[0]])\n",
    "\n",
    "# output in matrix form\n",
    "y = y.T\n",
    "\n",
    "print ('\\n Actual Output:')\n",
    "print(y)\n",
    "\n",
    "# shape of output array\n",
    "print('\\n Shape of Output:', y.shape)"
   ]
  },
  {
   "cell_type": "code",
   "execution_count": 4,
   "metadata": {
    "colab": {},
    "colab_type": "code",
    "id": "Vu-Y8bMUpbPt"
   },
   "outputs": [],
   "source": [
    "# defining the Sigmoid Function\n",
    "def sigmoid (x):\n",
    "    return 1/(1 + np.exp(-x))"
   ]
  },
  {
   "cell_type": "code",
   "execution_count": 5,
   "metadata": {
    "colab": {},
    "colab_type": "code",
    "id": "p5z-6CEdpcfe"
   },
   "outputs": [],
   "source": [
    "# defining the hyperparameters of the model\n",
    "lr=0.001 # learning rate\n",
    "inputlayer_neurons = X.shape[0] # number of features in data set\n",
    "hiddenlayer_neurons = 3 # number of hidden layers neurons\n",
    "output_neurons = 1 # number of neurons at output layer\n",
    "\n",
    "epochs = 10000 # number of epochs"
   ]
  },
  {
   "cell_type": "code",
   "execution_count": 6,
   "metadata": {
    "colab": {},
    "colab_type": "code",
    "id": "tCO28yWPpeRs"
   },
   "outputs": [],
   "source": [
    "# initializing weight\n",
    "w_ih=np.random.uniform(size=(inputlayer_neurons,hiddenlayer_neurons))\n",
    "w_ho=np.random.uniform(size=(hiddenlayer_neurons,output_neurons))"
   ]
  },
  {
   "cell_type": "code",
   "execution_count": 7,
   "metadata": {
    "colab": {},
    "colab_type": "code",
    "id": "-x0rQv8hphCD"
   },
   "outputs": [],
   "source": [
    "error_adam = []\n",
    "# parameters for Adam\n",
    "beta_1 = 0.9\n",
    "beta_2 = 0.9\n",
    "u_ih = 0\n",
    "u_ho = 0\n",
    "v_ih = 0\n",
    "v_ho = 0\n",
    "for i in range(epochs):\n",
    "    # Forward Propogation\n",
    "    \n",
    "    # hidden layer activations\n",
    "    hidden_layer_input=np.dot(w_ih.T,X)\n",
    "    hiddenlayer_activations = sigmoid(hidden_layer_input)    \n",
    "    # calculating the output\n",
    "    output_layer_input=np.dot(w_ho.T,hiddenlayer_activations)\n",
    "    output = sigmoid(output_layer_input)\n",
    "    \n",
    "    \n",
    "    # Backward Propagation\n",
    "    \n",
    "    # calculating error\n",
    "    error = np.square(y-output)/2\n",
    "    error_wrt_output = -(y-output)\n",
    "    output_wrt_Z2 = np.multiply(output,(1-output))\n",
    "    Z2_wrt_who = hiddenlayer_activations\n",
    "    # rate of change of error w.r.t weight between output and hidden layer\n",
    "    error_wrt_who = np.dot(Z2_wrt_who,(error_wrt_output*output_wrt_Z2).T)\n",
    "    Z2_wrt_h1 = w_ho\n",
    "    h1_wrt_Z1 = np.multiply(hiddenlayer_activations,(1-hiddenlayer_activations))\n",
    "    Z1_wrt_wih = X\n",
    "    # rate of change of error w.r.t weights between input and hidden layer\n",
    "    error_wrt_wih = np.dot(Z1_wrt_wih,(h1_wrt_Z1*np.dot(Z2_wrt_h1,(error_wrt_output*output_wrt_Z2))).T)\n",
    "    \n",
    "    # weighted squared gradients\n",
    "    u_ho = beta_1 * u_ho + (1-beta_1) * np.square(error_wrt_who)\n",
    "    u_ih = beta_1 * u_ih + (1-beta_1) * np.square(error_wrt_wih)\n",
    "    \n",
    "    # weighted gradients\n",
    "    v_ho = beta_2 * v_ho + (1-beta_2)*error_wrt_who\n",
    "    v_ih = beta_2 * v_ih + (1-beta_2)*error_wrt_wih\n",
    "    \n",
    "    # updating the learning rate\n",
    "    new_lr_o = lr / np.sqrt(u_ho.sum())\n",
    "    new_lr_h = lr / np.sqrt(u_ih.sum())\n",
    "\n",
    "    # updating the weights\n",
    "    w_ho = w_ho - new_lr_o * v_ho\n",
    "    w_ih = w_ih - new_lr_h * v_ih\n",
    "    error_adam.append(np.average(error))"
   ]
  },
  {
   "cell_type": "code",
   "execution_count": 8,
   "metadata": {
    "colab": {
     "base_uri": "https://localhost:8080/",
     "height": 284
    },
    "colab_type": "code",
    "id": "aprbf3G9piYz",
    "outputId": "b8dd39fa-238c-4d6f-be12-5a6ff44443a0"
   },
   "outputs": [
    {
     "data": {
      "text/plain": [
       "[<matplotlib.lines.Line2D at 0x20c75a70208>]"
      ]
     },
     "execution_count": 8,
     "metadata": {},
     "output_type": "execute_result"
    },
    {
     "data": {
      "image/png": "[encoded data removed]",
      "text/plain": [
       "<Figure size 432x288 with 1 Axes>"
      ]
     },
     "metadata": {
      "needs_background": "light"
     },
     "output_type": "display_data"
    }
   ],
   "source": [
    "# visualizing the error after each epoch\n",
    "plt.plot(np.arange(1,epochs+1), np.array(error_adam))"
   ]
  },
  {
   "cell_type": "code",
   "execution_count": null,
   "metadata": {
    "colab": {},
    "colab_type": "code",
    "id": "-t3_zkTOpkLq"
   },
   "outputs": [],
   "source": []
  }
 ],
 "metadata": {
  "colab": {
   "collapsed_sections": [],
   "name": "Adam from scratch.ipynb",
   "provenance": []
  },
  "kernelspec": {
   "display_name": "Python 3",
   "language": "python",
   "name": "python3"
  },
  "language_info": {
   "codemirror_mode": {
    "name": "ipython",
    "version": 3
   },
   "file_extension": ".py",
   "mimetype": "text/x-python",
   "name": "python",
   "nbconvert_exporter": "python",
   "pygments_lexer": "ipython3",
   "version": "3.7.1"
  }
 },
 "nbformat": 4,
 "nbformat_minor": 1
}
